{
  "nbformat": 4,
  "nbformat_minor": 0,
  "metadata": {
    "colab": {
      "name": "Lab09_XOR_Multi_Layers_with_nn.ipynb",
      "provenance": []
    },
    "kernelspec": {
      "name": "python3",
      "display_name": "Python 3"
    }
  },
  "cells": [
    {
      "cell_type": "markdown",
      "metadata": {
        "id": "9SlzmfyvtQpZ",
        "colab_type": "text"
      },
      "source": [
        "# XOR_Multi_Layers with torch.nn High level"
      ]
    },
    {
      "cell_type": "code",
      "metadata": {
        "id": "pF4MZQA1tFsa",
        "colab_type": "code",
        "colab": {}
      },
      "source": [
        "import torch\n",
        "import torch.nn as nn"
      ],
      "execution_count": 1,
      "outputs": []
    },
    {
      "cell_type": "code",
      "metadata": {
        "id": "FPl7uu_ltQE1",
        "colab_type": "code",
        "colab": {}
      },
      "source": [
        "device = 'cuda' if torch.cuda.is_available() else 'cpu'\n",
        "\n",
        "# for reproducibility\n",
        "torch.manual_seed(777)\n",
        "if device == 'cuda':\n",
        "    torch.cuda.manual_seed_all(777)"
      ],
      "execution_count": 2,
      "outputs": []
    },
    {
      "cell_type": "code",
      "metadata": {
        "id": "_AiWaSIDtX2K",
        "colab_type": "code",
        "colab": {}
      },
      "source": [
        "X = torch.FloatTensor([[0, 0], [0, 1], [1, 0], [1, 1]]).to(device)\n",
        "Y = torch.FloatTensor([[0], [1], [1], [0]]).to(device)"
      ],
      "execution_count": 3,
      "outputs": []
    },
    {
      "cell_type": "code",
      "metadata": {
        "id": "VQxaaSCvtZtl",
        "colab_type": "code",
        "colab": {}
      },
      "source": [
        "# nn layers\n",
        "linear1 = nn.Linear(2,2,bias = True)\n",
        "linear2 = nn.Linear(2,1,bias=True)\n",
        "sigmoid = nn.Sigmoid()"
      ],
      "execution_count": 4,
      "outputs": []
    },
    {
      "cell_type": "code",
      "metadata": {
        "id": "cJ6gHJ70tlO2",
        "colab_type": "code",
        "colab": {}
      },
      "source": [
        "# model\n",
        "model = nn.Sequential(linear1,\n",
        "                      sigmoid,\n",
        "                      linear2,\n",
        "                      sigmoid).to(device)"
      ],
      "execution_count": 5,
      "outputs": []
    },
    {
      "cell_type": "code",
      "metadata": {
        "id": "Ke2C386BtwXU",
        "colab_type": "code",
        "colab": {}
      },
      "source": [
        "# define cost/loss & optimizer\n",
        "criterion = nn.BCELoss().to(device)\n",
        "optimizer = torch.optim.SGD(model.parameters(),lr = 1)"
      ],
      "execution_count": 6,
      "outputs": []
    },
    {
      "cell_type": "code",
      "metadata": {
        "id": "8CmZQmPAuBBN",
        "colab_type": "code",
        "colab": {
          "base_uri": "https://localhost:8080/",
          "height": 210
        },
        "outputId": "83399536-972d-4dfb-e947-f45c07faf123"
      },
      "source": [
        "for step in range(10001):\n",
        "    optimizer.zero_grad()\n",
        "    # h(x)계산\n",
        "    hypothesis = model(X)\n",
        "    cost = criterion(hypothesis,Y)\n",
        "    cost.backward()\n",
        "    optimizer.step()\n",
        "    if step % 1000 == 0:\n",
        "        print(step, cost.item())\n"
      ],
      "execution_count": 8,
      "outputs": [
        {
          "output_type": "stream",
          "text": [
            "0 0.0012343396665528417\n",
            "1000 0.0010899071348831058\n",
            "2000 0.0009755371138453484\n",
            "3000 0.0008827920537441969\n",
            "4000 0.0008060433901846409\n",
            "5000 0.0007415290456265211\n",
            "6000 0.0006865476607345045\n",
            "7000 0.000639084551949054\n",
            "8000 0.0005977072869427502\n",
            "9000 0.0005614159745164216\n",
            "10000 0.0005292111891321838\n"
          ],
          "name": "stdout"
        }
      ]
    },
    {
      "cell_type": "code",
      "metadata": {
        "id": "9JEKtoJIukSm",
        "colab_type": "code",
        "colab": {
          "base_uri": "https://localhost:8080/",
          "height": 87
        },
        "outputId": "565e9202-f0f2-4162-b3bd-8b24a9fc2007"
      },
      "source": [
        "print(hypothesis)"
      ],
      "execution_count": 9,
      "outputs": [
        {
          "output_type": "stream",
          "text": [
            "tensor([[4.5872e-04],\n",
            "        [9.9953e-01],\n",
            "        [9.9953e-01],\n",
            "        [7.1009e-04]], grad_fn=<SigmoidBackward>)\n"
          ],
          "name": "stdout"
        }
      ]
    },
    {
      "cell_type": "code",
      "metadata": {
        "id": "wjY8HZwxuZ4n",
        "colab_type": "code",
        "colab": {
          "base_uri": "https://localhost:8080/",
          "height": 193
        },
        "outputId": "f5253cc0-bd3d-42ed-8b70-056dc8059519"
      },
      "source": [
        "# Accuracy\n",
        "with torch.no_grad():\n",
        "    hypothesis = model(X)\n",
        "    predicted = (hypothesis > 0.5).float()\n",
        "    accuracy = (predicted == Y).float().mean()\n",
        "    print('\\nHypothesis: ', hypothesis.detach().cpu().numpy(), '\\nCorrect: ', predicted.detach().cpu().numpy(), '\\nAccuracy: ', accuracy.item())"
      ],
      "execution_count": 10,
      "outputs": [
        {
          "output_type": "stream",
          "text": [
            "\n",
            "Hypothesis:  [[4.5869316e-04]\n",
            " [9.9952638e-01]\n",
            " [9.9952638e-01]\n",
            " [7.1005197e-04]] \n",
            "Correct:  [[0.]\n",
            " [1.]\n",
            " [1.]\n",
            " [0.]] \n",
            "Accuracy:  1.0\n"
          ],
          "name": "stdout"
        }
      ]
    }
  ]
}