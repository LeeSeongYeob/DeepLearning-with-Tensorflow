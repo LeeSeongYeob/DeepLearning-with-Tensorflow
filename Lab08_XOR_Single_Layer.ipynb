{
  "nbformat": 4,
  "nbformat_minor": 0,
  "metadata": {
    "colab": {
      "name": "Lab08_XOR_Single_Layer.ipynb",
      "provenance": []
    },
    "kernelspec": {
      "name": "python3",
      "display_name": "Python 3"
    }
  },
  "cells": [
    {
      "cell_type": "markdown",
      "metadata": {
        "id": "iys6xsy6f4rx",
        "colab_type": "text"
      },
      "source": [
        "# XOR Single Layer Perceptron"
      ]
    },
    {
      "cell_type": "code",
      "metadata": {
        "id": "NH5k_2YqYPAi",
        "colab_type": "code",
        "colab": {}
      },
      "source": [
        "import torch\n",
        "import torch.nn as nn\n",
        "import torch.optim as optim"
      ],
      "execution_count": 1,
      "outputs": []
    },
    {
      "cell_type": "code",
      "metadata": {
        "id": "oOwec5TSbDn0",
        "colab_type": "code",
        "colab": {}
      },
      "source": [
        "device = 'cuda' if torch.cuda.is_available() else 'cpu'\n",
        "\n",
        "# for reproducibility\n",
        "torch.manual_seed(777)\n",
        "if device == 'cuda':\n",
        "    torch.cuda.manual_seed_all(777)"
      ],
      "execution_count": 2,
      "outputs": []
    },
    {
      "cell_type": "code",
      "metadata": {
        "id": "Orip4_JGbEw9",
        "colab_type": "code",
        "colab": {}
      },
      "source": [
        "X = torch.FloatTensor([[0, 0], [0, 1], [1, 0], [1, 1]]).to(device)\n",
        "Y = torch.FloatTensor([[0],[1],[1],[0]]).to(device)"
      ],
      "execution_count": 3,
      "outputs": []
    },
    {
      "cell_type": "code",
      "metadata": {
        "id": "WPS7OX-6bnhX",
        "colab_type": "code",
        "colab": {}
      },
      "source": [
        "# nn layers\n",
        "linear = nn.Linear(2, 1, bias=True)\n",
        "sigmoid = nn.Sigmoid()\n",
        "model = nn.Sequential(linear,sigmoid).to(device)"
      ],
      "execution_count": 4,
      "outputs": []
    },
    {
      "cell_type": "code",
      "metadata": {
        "id": "x3XaiUOgb7yD",
        "colab_type": "code",
        "colab": {}
      },
      "source": [
        "criterion = nn.BCELoss().to(device)\n",
        "optimizer = optim.SGD(model.parameters(),lr = 1)"
      ],
      "execution_count": 5,
      "outputs": []
    },
    {
      "cell_type": "code",
      "metadata": {
        "id": "EBQnFMmxcisw",
        "colab_type": "code",
        "colab": {
          "base_uri": "https://localhost:8080/",
          "height": 210
        },
        "outputId": "b367ba8f-ec4e-4a3c-8b5f-4a7304032633"
      },
      "source": [
        "for step in range(10001):\n",
        "    optimizer.zero_grad()\n",
        "    hypothesis = model(X)\n",
        "    cost = criterion(hypothesis,Y)\n",
        "    cost.backward()\n",
        "    optimizer.step()\n",
        "    if step % 1000 == 0:\n",
        "        print(\"Step: {}, Cost: {:.6f}\".format(step, cost.item()))\n"
      ],
      "execution_count": 6,
      "outputs": [
        {
          "output_type": "stream",
          "text": [
            "Step: 0, Cost: 0.727397\n",
            "Step: 1000, Cost: 0.693147\n",
            "Step: 2000, Cost: 0.693147\n",
            "Step: 3000, Cost: 0.693147\n",
            "Step: 4000, Cost: 0.693147\n",
            "Step: 5000, Cost: 0.693147\n",
            "Step: 6000, Cost: 0.693147\n",
            "Step: 7000, Cost: 0.693147\n",
            "Step: 8000, Cost: 0.693147\n",
            "Step: 9000, Cost: 0.693147\n",
            "Step: 10000, Cost: 0.693147\n"
          ],
          "name": "stdout"
        }
      ]
    },
    {
      "cell_type": "code",
      "metadata": {
        "id": "JJKIOUrwekr7",
        "colab_type": "code",
        "colab": {
          "base_uri": "https://localhost:8080/",
          "height": 140
        },
        "outputId": "cc44598d-efa4-4f84-f833-b26e4806eafa"
      },
      "source": [
        "print(hypothesis,Y)"
      ],
      "execution_count": 7,
      "outputs": [
        {
          "output_type": "stream",
          "text": [
            "tensor([[0.5000],\n",
            "        [0.5000],\n",
            "        [0.5000],\n",
            "        [0.5000]], grad_fn=<SigmoidBackward>) tensor([[0.],\n",
            "        [1.],\n",
            "        [1.],\n",
            "        [0.]])\n"
          ],
          "name": "stdout"
        }
      ]
    }
  ]
}