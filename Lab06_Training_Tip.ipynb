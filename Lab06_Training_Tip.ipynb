{
  "nbformat": 4,
  "nbformat_minor": 0,
  "metadata": {
    "colab": {
      "name": "Lab06_Training_Tip.ipynb",
      "provenance": []
    },
    "kernelspec": {
      "name": "python3",
      "display_name": "Python 3"
    }
  },
  "cells": [
    {
      "cell_type": "markdown",
      "metadata": {
        "id": "9xnqfPT8d0O5",
        "colab_type": "text"
      },
      "source": [
        "# Training Tip\n",
        "- test set\n",
        "- learning rate\n",
        "- data preprocessing\n",
        "- overfitting\n",
        "- regularization"
      ]
    },
    {
      "cell_type": "code",
      "metadata": {
        "id": "ylEbz6S7dOLJ",
        "colab_type": "code",
        "colab": {
          "base_uri": "https://localhost:8080/",
          "height": 34
        },
        "outputId": "76ce4b10-17f9-47ef-dde0-b0208c3e7bcc"
      },
      "source": [
        "import torch\n",
        "import torch.nn as nn\n",
        "import torch.nn.functional as F\n",
        "import torch.optim as optim\n",
        "torch.manual_seed(1)"
      ],
      "execution_count": 1,
      "outputs": [
        {
          "output_type": "execute_result",
          "data": {
            "text/plain": [
              "<torch._C.Generator at 0x7febd4aa20c0>"
            ]
          },
          "metadata": {
            "tags": []
          },
          "execution_count": 1
        }
      ]
    },
    {
      "cell_type": "markdown",
      "metadata": {
        "id": "GG0xQ3avdv-H",
        "colab_type": "text"
      },
      "source": [
        "## Training and Testset"
      ]
    },
    {
      "cell_type": "code",
      "metadata": {
        "id": "TAbea1H8dnBf",
        "colab_type": "code",
        "colab": {}
      },
      "source": [
        "x_train = torch.FloatTensor([[1, 2, 1],\n",
        "                             [1, 3, 2],\n",
        "                             [1, 3, 4],\n",
        "                             [1, 5, 5],\n",
        "                             [1, 7, 5],\n",
        "                             [1, 2, 5],\n",
        "                             [1, 6, 6],\n",
        "                             [1, 7, 7]\n",
        "                            ])\n",
        "y_train = torch.LongTensor([2, 2, 2, 1, 1, 1, 0, 0])"
      ],
      "execution_count": 2,
      "outputs": []
    },
    {
      "cell_type": "code",
      "metadata": {
        "id": "x6EtFTexeA1e",
        "colab_type": "code",
        "colab": {}
      },
      "source": [
        "x_test = torch.FloatTensor([[2, 1, 1], [3, 1, 2], [3, 3, 4]])\n",
        "y_test = torch.LongTensor([2, 2, 2])"
      ],
      "execution_count": 3,
      "outputs": []
    },
    {
      "cell_type": "markdown",
      "metadata": {
        "id": "FUvFF9MQeUnp",
        "colab_type": "text"
      },
      "source": [
        "### Model -> softmax classifier"
      ]
    },
    {
      "cell_type": "code",
      "metadata": {
        "id": "w0juj4IGeBGj",
        "colab_type": "code",
        "colab": {}
      },
      "source": [
        "class Softmaxclassifier(nn.Module):\n",
        "    def __init__(self):\n",
        "        super().__init__()\n",
        "        self.linear = nn.Linear(3,3)\n",
        "\n",
        "    def forward(self,x):\n",
        "        return self.linear(x)"
      ],
      "execution_count": 4,
      "outputs": []
    },
    {
      "cell_type": "code",
      "metadata": {
        "id": "O0nEsNZgewLI",
        "colab_type": "code",
        "colab": {}
      },
      "source": [
        "model = Softmaxclassifier()"
      ],
      "execution_count": 5,
      "outputs": []
    },
    {
      "cell_type": "code",
      "metadata": {
        "id": "HyRYaLAthP7m",
        "colab_type": "code",
        "colab": {}
      },
      "source": [
        "#optimizer 설정\n",
        "optimizer = optim.SGD(model.parameters(),lr = 0.1)"
      ],
      "execution_count": 6,
      "outputs": []
    },
    {
      "cell_type": "markdown",
      "metadata": {
        "id": "FGhT19zsjn8S",
        "colab_type": "text"
      },
      "source": [
        "train 하는 함수"
      ]
    },
    {
      "cell_type": "code",
      "metadata": {
        "id": "x1t7cPhhhbXS",
        "colab_type": "code",
        "colab": {}
      },
      "source": [
        "def train(model,optimizer,x_train,y_train):\n",
        "    nb_epochs = 20\n",
        "    for epoch in range(nb_epochs + 1):\n",
        "\n",
        "        # H(x) 계산\n",
        "        prediction = model(x_train)\n",
        "        # cost 계산\n",
        "        cost = F.cross_entropy(prediction,y_train)\n",
        "        # cost 로 h(x) 개선\n",
        "        optimizer.zero_grad()\n",
        "        cost.backward()\n",
        "        optimizer.step()\n",
        "\n",
        "        print('Epoch {:4d}/{} Cost: {:.6f}'.format(\n",
        "            epoch, nb_epochs, cost.item()\n",
        "        ))"
      ],
      "execution_count": 7,
      "outputs": []
    },
    {
      "cell_type": "markdown",
      "metadata": {
        "id": "c3kAF9qdjm7q",
        "colab_type": "text"
      },
      "source": [
        "test 하는 함수"
      ]
    },
    {
      "cell_type": "code",
      "metadata": {
        "id": "pB4Miop8iFXG",
        "colab_type": "code",
        "colab": {}
      },
      "source": [
        "def test(model,optimizer,x_test,y_test):\n",
        "    prediction = model(x_test)\n",
        "    predicted_classes = prediction.max(1)[1]\n",
        "    correct_count = (predicted_classes == y_test).sum().item()\n",
        "    cost = F.cross_entropy(prediction ,y_test)\n",
        "    print('Accuracy: {}% Cost: {:.6f}'.format(\n",
        "         correct_count / len(y_test) * 100, cost.item()\n",
        "    ))"
      ],
      "execution_count": 8,
      "outputs": []
    },
    {
      "cell_type": "code",
      "metadata": {
        "id": "gFNGIF_wjspA",
        "colab_type": "code",
        "colab": {
          "base_uri": "https://localhost:8080/",
          "height": 386
        },
        "outputId": "32b726ba-84fe-4df6-93d2-aba3bddbe7a6"
      },
      "source": [
        "train(model,optimizer,x_train,y_train)"
      ],
      "execution_count": 9,
      "outputs": [
        {
          "output_type": "stream",
          "text": [
            "Epoch    0/20 Cost: 2.203667\n",
            "Epoch    1/20 Cost: 1.199645\n",
            "Epoch    2/20 Cost: 1.142985\n",
            "Epoch    3/20 Cost: 1.117769\n",
            "Epoch    4/20 Cost: 1.100901\n",
            "Epoch    5/20 Cost: 1.089523\n",
            "Epoch    6/20 Cost: 1.079872\n",
            "Epoch    7/20 Cost: 1.071320\n",
            "Epoch    8/20 Cost: 1.063325\n",
            "Epoch    9/20 Cost: 1.055720\n",
            "Epoch   10/20 Cost: 1.048378\n",
            "Epoch   11/20 Cost: 1.041245\n",
            "Epoch   12/20 Cost: 1.034285\n",
            "Epoch   13/20 Cost: 1.027478\n",
            "Epoch   14/20 Cost: 1.020813\n",
            "Epoch   15/20 Cost: 1.014279\n",
            "Epoch   16/20 Cost: 1.007872\n",
            "Epoch   17/20 Cost: 1.001586\n",
            "Epoch   18/20 Cost: 0.995419\n",
            "Epoch   19/20 Cost: 0.989365\n",
            "Epoch   20/20 Cost: 0.983424\n"
          ],
          "name": "stdout"
        }
      ]
    },
    {
      "cell_type": "code",
      "metadata": {
        "id": "3Lw6dBu-p-c6",
        "colab_type": "code",
        "colab": {
          "base_uri": "https://localhost:8080/",
          "height": 34
        },
        "outputId": "2e8a0fc9-f3c3-410d-c5df-21ed8818e152"
      },
      "source": [
        "test(model,optimizer,x_test,y_test)"
      ],
      "execution_count": 10,
      "outputs": [
        {
          "output_type": "stream",
          "text": [
            "Accuracy: 0.0% Cost: 1.386150\n"
          ],
          "name": "stdout"
        }
      ]
    },
    {
      "cell_type": "markdown",
      "metadata": {
        "id": "jP7IBHKkj6YT",
        "colab_type": "text"
      },
      "source": [
        "## Learning Rate\n",
        "Gradient Descent 에서의 $\\alpha$ 값\n",
        "\n",
        "optimizer = optim.SGD(model.parameters(), lr=0.1) 에서 lr=0.1 이다\n",
        "\n",
        "learning rate이 너무 크면 diverge 하면서 cost 가 점점 늘어난다 (overshooting)."
      ]
    },
    {
      "cell_type": "code",
      "metadata": {
        "id": "R2DoQGf4jwTH",
        "colab_type": "code",
        "colab": {}
      },
      "source": [
        "model = Softmaxclassifier()\n",
        "optimizer = optim.SGD(model.parameters(),lr = 1e5)"
      ],
      "execution_count": 11,
      "outputs": []
    },
    {
      "cell_type": "code",
      "metadata": {
        "id": "PDq8PBRzkF2g",
        "colab_type": "code",
        "colab": {
          "base_uri": "https://localhost:8080/",
          "height": 386
        },
        "outputId": "1f17a1ab-9677-432a-f92f-e5e89599b365"
      },
      "source": [
        "train(model,optimizer,x_train,y_train)"
      ],
      "execution_count": 12,
      "outputs": [
        {
          "output_type": "stream",
          "text": [
            "Epoch    0/20 Cost: 1.280268\n",
            "Epoch    1/20 Cost: 976950.750000\n",
            "Epoch    2/20 Cost: 1279135.250000\n",
            "Epoch    3/20 Cost: 1198378.875000\n",
            "Epoch    4/20 Cost: 1098825.750000\n",
            "Epoch    5/20 Cost: 1968197.625000\n",
            "Epoch    6/20 Cost: 284763.250000\n",
            "Epoch    7/20 Cost: 1532260.250000\n",
            "Epoch    8/20 Cost: 1651503.750000\n",
            "Epoch    9/20 Cost: 521878.562500\n",
            "Epoch   10/20 Cost: 1397263.250000\n",
            "Epoch   11/20 Cost: 750986.375000\n",
            "Epoch   12/20 Cost: 918691.375000\n",
            "Epoch   13/20 Cost: 1487888.250000\n",
            "Epoch   14/20 Cost: 1582260.125000\n",
            "Epoch   15/20 Cost: 685818.125000\n",
            "Epoch   16/20 Cost: 1140048.875000\n",
            "Epoch   17/20 Cost: 940566.375000\n",
            "Epoch   18/20 Cost: 931638.250000\n",
            "Epoch   19/20 Cost: 1971322.625000\n",
            "Epoch   20/20 Cost: 200090.921875\n"
          ],
          "name": "stdout"
        }
      ]
    },
    {
      "cell_type": "markdown",
      "metadata": {
        "id": "JrF18n5jkM-f",
        "colab_type": "text"
      },
      "source": [
        "learning rate이 너무 작으면 cost가 거의 줄어들지 않는다"
      ]
    },
    {
      "cell_type": "code",
      "metadata": {
        "id": "yO5iMGr9kMUy",
        "colab_type": "code",
        "colab": {
          "base_uri": "https://localhost:8080/",
          "height": 386
        },
        "outputId": "24a7f67f-6256-4a99-82ae-fa61bd293de2"
      },
      "source": [
        "model = Softmaxclassifier()\n",
        "optimizer = optim.SGD(model.parameters(),lr = 1e-10)\n",
        "train(model,optimizer,x_train,y_train)"
      ],
      "execution_count": 13,
      "outputs": [
        {
          "output_type": "stream",
          "text": [
            "Epoch    0/20 Cost: 3.187324\n",
            "Epoch    1/20 Cost: 3.187324\n",
            "Epoch    2/20 Cost: 3.187324\n",
            "Epoch    3/20 Cost: 3.187324\n",
            "Epoch    4/20 Cost: 3.187324\n",
            "Epoch    5/20 Cost: 3.187324\n",
            "Epoch    6/20 Cost: 3.187324\n",
            "Epoch    7/20 Cost: 3.187324\n",
            "Epoch    8/20 Cost: 3.187324\n",
            "Epoch    9/20 Cost: 3.187324\n",
            "Epoch   10/20 Cost: 3.187324\n",
            "Epoch   11/20 Cost: 3.187324\n",
            "Epoch   12/20 Cost: 3.187324\n",
            "Epoch   13/20 Cost: 3.187324\n",
            "Epoch   14/20 Cost: 3.187324\n",
            "Epoch   15/20 Cost: 3.187324\n",
            "Epoch   16/20 Cost: 3.187324\n",
            "Epoch   17/20 Cost: 3.187324\n",
            "Epoch   18/20 Cost: 3.187324\n",
            "Epoch   19/20 Cost: 3.187324\n",
            "Epoch   20/20 Cost: 3.187324\n"
          ],
          "name": "stdout"
        }
      ]
    },
    {
      "cell_type": "markdown",
      "metadata": {
        "id": "qU07VD-dkiH_",
        "colab_type": "text"
      },
      "source": [
        "## Data Processing (데이터 전처리)\n",
        "데이터를 zero-center 하고 normalize하기.-> 정규분포화"
      ]
    },
    {
      "cell_type": "code",
      "metadata": {
        "id": "Y9dcmtKckWsS",
        "colab_type": "code",
        "colab": {}
      },
      "source": [
        "x_train = torch.FloatTensor([[73, 80, 75],\n",
        "                             [93, 88, 93],\n",
        "                             [89, 91, 90],\n",
        "                             [96, 98, 100],\n",
        "                             [73, 66, 70]])\n",
        "y_train = torch.FloatTensor([[152], [185], [180], [196], [142]])"
      ],
      "execution_count": 14,
      "outputs": []
    },
    {
      "cell_type": "markdown",
      "metadata": {
        "id": "t3ZYzFeRlF_2",
        "colab_type": "text"
      },
      "source": [
        "$$ x'_j = \\frac{x_j - \\mu_j}{\\sigma_j} $$\n",
        "여기서 $\\sigma$ 는 standard deviation, $\\mu$ 는 평균값 이다."
      ]
    },
    {
      "cell_type": "code",
      "metadata": {
        "id": "SHXdldkhk7xA",
        "colab_type": "code",
        "colab": {
          "base_uri": "https://localhost:8080/",
          "height": 34
        },
        "outputId": "882e7b85-9cdb-4256-e05c-99bf98a8ca95"
      },
      "source": [
        "mu = x_train.mean(dim = 0)\n",
        "print(mu)"
      ],
      "execution_count": 15,
      "outputs": [
        {
          "output_type": "stream",
          "text": [
            "tensor([84.8000, 84.6000, 85.6000])\n"
          ],
          "name": "stdout"
        }
      ]
    },
    {
      "cell_type": "code",
      "metadata": {
        "id": "niKkzKrwlLC5",
        "colab_type": "code",
        "colab": {
          "base_uri": "https://localhost:8080/",
          "height": 34
        },
        "outputId": "967ca8ea-ef16-47e7-a00e-eb5810520a61"
      },
      "source": [
        "sigma = x_train.std(dim = 0)\n",
        "print(sigma)"
      ],
      "execution_count": 16,
      "outputs": [
        {
          "output_type": "stream",
          "text": [
            "tensor([11.0544, 12.2393, 12.6214])\n"
          ],
          "name": "stdout"
        }
      ]
    },
    {
      "cell_type": "code",
      "metadata": {
        "id": "1BEliXOclS7I",
        "colab_type": "code",
        "colab": {
          "base_uri": "https://localhost:8080/",
          "height": 105
        },
        "outputId": "e9cf8826-8f17-495b-afa0-d571d43ed431"
      },
      "source": [
        "norm_x_train = (x_train - mu) / sigma\n",
        "print(norm_x_train)"
      ],
      "execution_count": 17,
      "outputs": [
        {
          "output_type": "stream",
          "text": [
            "tensor([[-1.0674, -0.3758, -0.8398],\n",
            "        [ 0.7418,  0.2778,  0.5863],\n",
            "        [ 0.3799,  0.5229,  0.3486],\n",
            "        [ 1.0132,  1.0948,  1.1409],\n",
            "        [-1.0674, -1.5197, -1.2360]])\n"
          ],
          "name": "stdout"
        }
      ]
    },
    {
      "cell_type": "markdown",
      "metadata": {
        "id": "Rf5eSqn1l4c9",
        "colab_type": "text"
      },
      "source": [
        "학습한 성능 확인하기"
      ]
    },
    {
      "cell_type": "code",
      "metadata": {
        "id": "ZMuTD_jGlXKn",
        "colab_type": "code",
        "colab": {}
      },
      "source": [
        "class MultivariateLinearRegressionModel(nn.Module):\n",
        "    def __init__(self):\n",
        "        super().__init__()\n",
        "        self.linear = nn.Linear(3, 1)\n",
        "\n",
        "    def forward(self, x):\n",
        "        return self.linear(x)"
      ],
      "execution_count": 18,
      "outputs": []
    },
    {
      "cell_type": "code",
      "metadata": {
        "id": "P6JT7Y2tl8vk",
        "colab_type": "code",
        "colab": {}
      },
      "source": [
        "model = MultivariateLinearRegressionModel()"
      ],
      "execution_count": 19,
      "outputs": []
    },
    {
      "cell_type": "code",
      "metadata": {
        "id": "zDXLlY9pmGep",
        "colab_type": "code",
        "colab": {}
      },
      "source": [
        "optimizer = optim.SGD(model.parameters(),lr=1e-1)"
      ],
      "execution_count": 20,
      "outputs": []
    },
    {
      "cell_type": "code",
      "metadata": {
        "id": "au5F-GgOmM9w",
        "colab_type": "code",
        "colab": {}
      },
      "source": [
        "def train(model,optimizer,x_train,y_train):\n",
        "    nb_epochs = 20\n",
        "    for epoch in range(nb_epochs + 1):\n",
        "        # H(x) 계산\n",
        "        prediction = model(x_train)\n",
        "        # Cost 계산\n",
        "        cost = F.mse_loss(prediction,y_train)\n",
        "        # Cost러 H(x) 개선\n",
        "        optimizer.zero_grad()\n",
        "        cost.backward()\n",
        "        optimizer.step()\n",
        "        print('Epoch {:4d}/{} Cost: {:.6f}'.format(\n",
        "            epoch, nb_epochs, cost.item()\n",
        "        ))"
      ],
      "execution_count": 21,
      "outputs": []
    },
    {
      "cell_type": "code",
      "metadata": {
        "id": "JP_hltwWml1-",
        "colab_type": "code",
        "colab": {
          "base_uri": "https://localhost:8080/",
          "height": 386
        },
        "outputId": "78325518-c207-4854-8c18-18d80fb85d15"
      },
      "source": [
        "train(model, optimizer, norm_x_train, y_train)"
      ],
      "execution_count": 22,
      "outputs": [
        {
          "output_type": "stream",
          "text": [
            "Epoch    0/20 Cost: 29729.949219\n",
            "Epoch    1/20 Cost: 18889.082031\n",
            "Epoch    2/20 Cost: 12048.975586\n",
            "Epoch    3/20 Cost: 7699.843750\n",
            "Epoch    4/20 Cost: 4924.700684\n",
            "Epoch    5/20 Cost: 3151.020264\n",
            "Epoch    6/20 Cost: 2016.562866\n",
            "Epoch    7/20 Cost: 1290.709106\n",
            "Epoch    8/20 Cost: 826.216003\n",
            "Epoch    9/20 Cost: 528.952271\n",
            "Epoch   10/20 Cost: 338.703308\n",
            "Epoch   11/20 Cost: 216.940063\n",
            "Epoch   12/20 Cost: 139.006989\n",
            "Epoch   13/20 Cost: 89.125130\n",
            "Epoch   14/20 Cost: 57.196083\n",
            "Epoch   15/20 Cost: 36.757317\n",
            "Epoch   16/20 Cost: 23.672049\n",
            "Epoch   17/20 Cost: 15.293401\n",
            "Epoch   18/20 Cost: 9.927165\n",
            "Epoch   19/20 Cost: 6.488903\n",
            "Epoch   20/20 Cost: 4.284752\n"
          ],
          "name": "stdout"
        }
      ]
    },
    {
      "cell_type": "markdown",
      "metadata": {
        "id": "b2bsBSd1nOzW",
        "colab_type": "text"
      },
      "source": [
        "## Overfitting\n",
        "너무 학습 데이터에 한해 잘 학습해 테스트 데이터에 좋은 성능을 내지 못할 수도 있다.\n",
        "\n",
        "이것을 방지하는 방법은 크게 세 가지인데:\n",
        "\n",
        "1. 더 많은 학습 데이터\n",
        "2. 더 적은 양의 feature\n",
        "3. Regularization"
      ]
    },
    {
      "cell_type": "code",
      "metadata": {
        "id": "c2Dvsi6DmpGO",
        "colab_type": "code",
        "colab": {}
      },
      "source": [
        "def train_with_regularization(model, optimizer, x_train, y_train):\n",
        "    nb_epochs = 20\n",
        "    for epoch in range(nb_epochs + 1):\n",
        "\n",
        "        # H(x) 계산\n",
        "        prediction = model(x_train)\n",
        "        # Cost 계산\n",
        "        cost = F.mse_loss(prediction, y_train)\n",
        "        # l2 norm 계산\n",
        "        l2_reg = 0\n",
        "        for param in model.parameters():\n",
        "            l2_reg += torch.norm(param)\n",
        "        cost += l2_reg\n",
        "        # cost로 H(x) 개선\n",
        "        optimizer.zero_grad()\n",
        "        cost.backward()\n",
        "        optimizer.step()\n",
        "\n",
        "        print('Epoch {:4d}/{} Cost: {:.6f}'.format(\n",
        "            epoch+1, nb_epochs, cost.item()\n",
        "        ))\n"
      ],
      "execution_count": 23,
      "outputs": []
    },
    {
      "cell_type": "code",
      "metadata": {
        "id": "k1SdLN3Kn7H6",
        "colab_type": "code",
        "colab": {
          "base_uri": "https://localhost:8080/",
          "height": 386
        },
        "outputId": "09db3f92-d871-45aa-f642-76b21bab6da0"
      },
      "source": [
        "model = MultivariateLinearRegressionModel()\n",
        "optimizer = optim.SGD(model.parameters(), lr=1e-1)\n",
        "train_with_regularization(model, optimizer, norm_x_train, y_train)"
      ],
      "execution_count": 24,
      "outputs": [
        {
          "output_type": "stream",
          "text": [
            "Epoch    1/20 Cost: 29632.869141\n",
            "Epoch    2/20 Cost: 18897.533203\n",
            "Epoch    3/20 Cost: 12122.802734\n",
            "Epoch    4/20 Cost: 7814.006836\n",
            "Epoch    5/20 Cost: 5064.236816\n",
            "Epoch    6/20 Cost: 3306.669678\n",
            "Epoch    7/20 Cost: 2182.488770\n",
            "Epoch    8/20 Cost: 1463.201904\n",
            "Epoch    9/20 Cost: 1002.911377\n",
            "Epoch   10/20 Cost: 708.338318\n",
            "Epoch   11/20 Cost: 519.812500\n",
            "Epoch   12/20 Cost: 399.154022\n",
            "Epoch   13/20 Cost: 321.930054\n",
            "Epoch   14/20 Cost: 272.503662\n",
            "Epoch   15/20 Cost: 240.868073\n",
            "Epoch   16/20 Cost: 220.618439\n",
            "Epoch   17/20 Cost: 207.656235\n",
            "Epoch   18/20 Cost: 199.358002\n",
            "Epoch   19/20 Cost: 194.044785\n",
            "Epoch   20/20 Cost: 190.642242\n",
            "Epoch   21/20 Cost: 188.462555\n"
          ],
          "name": "stdout"
        }
      ]
    }
  ]
}