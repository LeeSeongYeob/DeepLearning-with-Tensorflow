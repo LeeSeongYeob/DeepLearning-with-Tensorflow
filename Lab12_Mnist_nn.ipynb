{
  "nbformat": 4,
  "nbformat_minor": 0,
  "metadata": {
    "colab": {
      "name": "Lab12_Mnist_nn.ipynb",
      "provenance": [],
      "collapsed_sections": []
    },
    "kernelspec": {
      "name": "python3",
      "display_name": "Python 3"
    }
  },
  "cells": [
    {
      "cell_type": "markdown",
      "metadata": {
        "id": "00JOK3TMedvx",
        "colab_type": "text"
      },
      "source": [
        "# Mnist_nn\n",
        "- 3개의 layer로 구현"
      ]
    },
    {
      "cell_type": "code",
      "metadata": {
        "id": "Zjyp0WYQeY2I",
        "colab_type": "code",
        "colab": {}
      },
      "source": [
        "import torch\n",
        "import torch.nn as nn\n",
        "import torchvision.datasets as dsets\n",
        "import torchvision.transforms as transforms\n",
        "import random"
      ],
      "execution_count": 1,
      "outputs": []
    },
    {
      "cell_type": "code",
      "metadata": {
        "id": "Iz4wTYeRes-F",
        "colab_type": "code",
        "colab": {}
      },
      "source": [
        "device = 'cuda' if torch.cuda.is_available() else 'cpu'\n",
        "\n",
        "# for reproducibility\n",
        "random.seed(111)\n",
        "torch.manual_seed(777)\n",
        "if device == 'cuda':\n",
        "    torch.cuda.manual_seed_all(777)"
      ],
      "execution_count": 2,
      "outputs": []
    },
    {
      "cell_type": "code",
      "metadata": {
        "id": "tMgRoKOzewC0",
        "colab_type": "code",
        "colab": {}
      },
      "source": [
        "# parameters\n",
        "learning_rate = 0.001\n",
        "training_epochs = 15\n",
        "batch_size = 100"
      ],
      "execution_count": 3,
      "outputs": []
    },
    {
      "cell_type": "code",
      "metadata": {
        "id": "2CjAztj8e3eL",
        "colab_type": "code",
        "colab": {}
      },
      "source": [
        "# Mnist dataset\n",
        "mnist_train = dsets.MNIST(root='MNIST_data/',\n",
        "                          train=True,\n",
        "                          transform=transforms.ToTensor(),\n",
        "                          download=True)\n",
        "\n",
        "mnist_test = dsets.MNIST(root='MNIST_data/',\n",
        "                         train=False,\n",
        "                         transform=transforms.ToTensor(),\n",
        "                         download=True)"
      ],
      "execution_count": 4,
      "outputs": []
    },
    {
      "cell_type": "code",
      "metadata": {
        "id": "WYuVK4Tze6Eo",
        "colab_type": "code",
        "colab": {}
      },
      "source": [
        "# dataset loader\n",
        "data_loader = torch.utils.data.DataLoader(dataset=mnist_train,\n",
        "                                          batch_size = batch_size,\n",
        "                                          shuffle=True,\n",
        "                                          drop_last=True)"
      ],
      "execution_count": 5,
      "outputs": []
    },
    {
      "cell_type": "code",
      "metadata": {
        "id": "Dc-_GyG0ftib",
        "colab_type": "code",
        "colab": {}
      },
      "source": [
        "# nn layers\n",
        "linear1 = nn.Linear(784,256,bias=True)\n",
        "linear2 = nn.Linear(256,256,bias=True)\n",
        "linear3 = nn.Linear(256,10,bias=True)\n",
        "relu = nn.ReLU()"
      ],
      "execution_count": 6,
      "outputs": []
    },
    {
      "cell_type": "code",
      "metadata": {
        "id": "oV1cNpzHf8DV",
        "colab_type": "code",
        "colab": {
          "base_uri": "https://localhost:8080/",
          "height": 175
        },
        "outputId": "66821967-b260-4641-b5f5-9ab0bf7061bc"
      },
      "source": [
        "# initialization\n",
        "nn.init.normal_(linear1.weight)\n",
        "nn.init.normal_(linear2.weight)\n",
        "nn.init.normal_(linear3.weight)"
      ],
      "execution_count": 7,
      "outputs": [
        {
          "output_type": "execute_result",
          "data": {
            "text/plain": [
              "Parameter containing:\n",
              "tensor([[-0.6645,  0.6646,  0.7159,  ..., -0.3040, -0.8945, -0.7977],\n",
              "        [-1.2045,  2.4545, -1.8073,  ..., -1.7139, -0.0451,  0.3864],\n",
              "        [ 0.3414,  0.3114, -1.9218,  ..., -0.4525, -0.6849,  0.9663],\n",
              "        ...,\n",
              "        [ 1.3915, -0.4048,  0.2338,  ..., -0.8257, -0.8397,  1.9816],\n",
              "        [ 1.0414,  0.2130, -0.0417,  ...,  1.7541, -0.6454, -0.0821],\n",
              "        [-0.1162, -1.2692,  0.8201,  ..., -0.8303, -0.5022,  0.0583]],\n",
              "       requires_grad=True)"
            ]
          },
          "metadata": {
            "tags": []
          },
          "execution_count": 7
        }
      ]
    },
    {
      "cell_type": "code",
      "metadata": {
        "id": "4jzo2cSfgKak",
        "colab_type": "code",
        "colab": {}
      },
      "source": [
        "# model\n",
        "model = nn.Sequential(linear1,relu,\n",
        "                      linear2,relu,\n",
        "                      linear3).to(device)\n"
      ],
      "execution_count": 8,
      "outputs": []
    },
    {
      "cell_type": "code",
      "metadata": {
        "id": "tTVeIlcBgT1t",
        "colab_type": "code",
        "colab": {}
      },
      "source": [
        "# define loss/cost & optimizer\n",
        "criterion = nn.CrossEntropyLoss().to(device)\n",
        "optimizer = torch.optim.Adam(model.parameters(),lr = learning_rate)"
      ],
      "execution_count": 9,
      "outputs": []
    },
    {
      "cell_type": "code",
      "metadata": {
        "id": "D3fET-IihPTw",
        "colab_type": "code",
        "colab": {
          "base_uri": "https://localhost:8080/",
          "height": 298
        },
        "outputId": "dbd77f26-73d3-49c2-9269-f5eea0f77760"
      },
      "source": [
        "# total data 60,000 , batch_size = 100\n",
        "total_batch = len(data_loader)\n",
        "for epoch in range(training_epochs):\n",
        "    avg_cost = 0\n",
        "    for X,Y in data_loader:\n",
        "        # reshape input image into [batch_size by 784]\n",
        "        # label is not one-hot encoded\n",
        "        X = X.view(-1,28*28).to(device)\n",
        "        Y = Y.to(device)\n",
        "        optimizer.zero_grad()\n",
        "        hypothesis = model(X)\n",
        "        cost = criterion(hypothesis,Y)\n",
        "        cost.backward()\n",
        "        optimizer.step()\n",
        "\n",
        "        avg_cost += cost / total_batch\n",
        "    print('Epoch:', '%04d' % (epoch + 1), 'cost =', '{:.9f}'.format(avg_cost))\n",
        "\n",
        "print('Learning finished')"
      ],
      "execution_count": 10,
      "outputs": [
        {
          "output_type": "stream",
          "text": [
            "Epoch: 0001 cost = 129.308822632\n",
            "Epoch: 0002 cost = 36.242008209\n",
            "Epoch: 0003 cost = 23.013143539\n",
            "Epoch: 0004 cost = 16.038034439\n",
            "Epoch: 0005 cost = 11.614226341\n",
            "Epoch: 0006 cost = 8.640940666\n",
            "Epoch: 0007 cost = 6.390253067\n",
            "Epoch: 0008 cost = 4.754397869\n",
            "Epoch: 0009 cost = 3.557954073\n",
            "Epoch: 0010 cost = 2.751285315\n",
            "Epoch: 0011 cost = 2.162648678\n",
            "Epoch: 0012 cost = 1.669728637\n",
            "Epoch: 0013 cost = 1.252227783\n",
            "Epoch: 0014 cost = 0.980631769\n",
            "Epoch: 0015 cost = 0.799752474\n",
            "Learning finished\n"
          ],
          "name": "stdout"
        }
      ]
    },
    {
      "cell_type": "markdown",
      "metadata": {
        "id": "4DGtLPpcl8pC",
        "colab_type": "text"
      },
      "source": [
        "94%의 정확도로 layer가 없는 모델보다 정확도가 더 증가하였다."
      ]
    },
    {
      "cell_type": "code",
      "metadata": {
        "id": "STKdGTiqj8zr",
        "colab_type": "code",
        "colab": {
          "base_uri": "https://localhost:8080/",
          "height": 160
        },
        "outputId": "6af17860-2afd-46b7-f663-733c02f13ee8"
      },
      "source": [
        "# test\n",
        "with torch.no_grad():\n",
        "    X_test = mnist_test.test_data.view(-1,28*28).float().to(device)\n",
        "    Y_test = mnist_test.test_labels.to(device)\n",
        "\n",
        "    prediction = model(X_test)\n",
        "    correct_prediction = torch.argmax(prediction,1) == Y_test\n",
        "    accuracy = correct_prediction.float().mean()\n",
        "    print(f\"Accuarcy: {accuracy}\")\n",
        "\n",
        "    # Get one and predict\n",
        "    r = random.randint(0,len(mnist_test) - 1)\n",
        "    X_single_data = mnist_test.test_data[r:r+1].view(-1,28*28).float().to(device)\n",
        "    Y_single_data = mnist_test.test_labels[r:r+1].to(device)\n",
        "\n",
        "    print('Label: ', Y_single_data.item())\n",
        "    single_prediction = model(X_single_data)\n",
        "    print('Prediction: ', torch.argmax(single_prediction, 1).item())"
      ],
      "execution_count": 11,
      "outputs": [
        {
          "output_type": "stream",
          "text": [
            "/usr/local/lib/python3.6/dist-packages/torchvision/datasets/mnist.py:60: UserWarning: test_data has been renamed data\n",
            "  warnings.warn(\"test_data has been renamed data\")\n",
            "/usr/local/lib/python3.6/dist-packages/torchvision/datasets/mnist.py:50: UserWarning: test_labels has been renamed targets\n",
            "  warnings.warn(\"test_labels has been renamed targets\")\n"
          ],
          "name": "stderr"
        },
        {
          "output_type": "stream",
          "text": [
            "Accuarcy: 0.9453999996185303\n",
            "Label:  9\n",
            "Prediction:  9\n"
          ],
          "name": "stdout"
        }
      ]
    }
  ]
}