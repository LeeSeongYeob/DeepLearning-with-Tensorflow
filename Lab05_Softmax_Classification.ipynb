{
  "nbformat": 4,
  "nbformat_minor": 0,
  "metadata": {
    "colab": {
      "name": "Lab05_Softmax_Classification.ipynb",
      "provenance": []
    },
    "kernelspec": {
      "name": "python3",
      "display_name": "Python 3"
    }
  },
  "cells": [
    {
      "cell_type": "markdown",
      "metadata": {
        "id": "O4ZXpJ3-RbBr",
        "colab_type": "text"
      },
      "source": [
        "#Softmax Classification\n",
        "- loss : Cross Entropy\n",
        "\n",
        "** Binary Classification 일 경우, Binary Cross Entropy + Sigmoid 사용\n",
        "\n",
        "** Multi Classification 일 경우, Cross Entropy + Softmax 사용\n"
      ]
    },
    {
      "cell_type": "code",
      "metadata": {
        "id": "u_kjMiUTQ-So",
        "colab_type": "code",
        "colab": {
          "base_uri": "https://localhost:8080/",
          "height": 34
        },
        "outputId": "6c4af38b-aec8-4c04-ad36-b022bd48d98d"
      },
      "source": [
        "import torch\n",
        "import torch.nn as nn\n",
        "import torch.nn.functional as F\n",
        "import torch.optim as optim\n",
        "torch.manual_seed(1)"
      ],
      "execution_count": 1,
      "outputs": [
        {
          "output_type": "execute_result",
          "data": {
            "text/plain": [
              "<torch._C.Generator at 0x7ffa6de210c0>"
            ]
          },
          "metadata": {
            "tags": []
          },
          "execution_count": 1
        }
      ]
    },
    {
      "cell_type": "markdown",
      "metadata": {
        "id": "QmTiCrp3Rwih",
        "colab_type": "text"
      },
      "source": [
        "softmax를 통해 숫자를 확률로 변환한다.\n",
        "$$ P(class=i) = \\frac{e^i}{\\sum e^i} $$"
      ]
    },
    {
      "cell_type": "code",
      "metadata": {
        "id": "V8z1bWIvRpbF",
        "colab_type": "code",
        "colab": {}
      },
      "source": [
        "z = torch.FloatTensor([1,2,3])"
      ],
      "execution_count": 2,
      "outputs": []
    },
    {
      "cell_type": "code",
      "metadata": {
        "id": "HYgqZxRmR7yc",
        "colab_type": "code",
        "colab": {
          "base_uri": "https://localhost:8080/",
          "height": 52
        },
        "outputId": "9aa2e117-df0a-41cb-c382-b788602b9efb"
      },
      "source": [
        "hypothesis = F.softmax(z, dim = 0)\n",
        "print(hypothesis)\n",
        "print(hypothesis.sum())"
      ],
      "execution_count": 3,
      "outputs": [
        {
          "output_type": "stream",
          "text": [
            "tensor([0.0900, 0.2447, 0.6652])\n",
            "tensor(1.)\n"
          ],
          "name": "stdout"
        }
      ]
    },
    {
      "cell_type": "markdown",
      "metadata": {
        "id": "8qpniGtES6ue",
        "colab_type": "text"
      },
      "source": [
        "## Cross Entropy\n",
        "Multi-class 분류는 Cross Entropy를 Loss로 사용\n",
        "$$ L = \\frac{1}{N} \\sum - y \\log(\\hat{y}) $$"
      ]
    },
    {
      "cell_type": "code",
      "metadata": {
        "id": "WkxXOxRgS55w",
        "colab_type": "code",
        "colab": {
          "base_uri": "https://localhost:8080/",
          "height": 70
        },
        "outputId": "b1f32607-9a9c-4625-a374-b4e41e2440e1"
      },
      "source": [
        "z = torch.rand(3,5,requires_grad=True)  # classes = 5, samples = 3\n",
        "hypothesis = F.softmax(z, dim = 1)\n",
        "print(hypothesis)"
      ],
      "execution_count": 4,
      "outputs": [
        {
          "output_type": "stream",
          "text": [
            "tensor([[0.2645, 0.1639, 0.1855, 0.2585, 0.1277],\n",
            "        [0.2430, 0.1624, 0.2322, 0.1930, 0.1694],\n",
            "        [0.2226, 0.1986, 0.2326, 0.1594, 0.1868]], grad_fn=<SoftmaxBackward>)\n"
          ],
          "name": "stdout"
        }
      ]
    },
    {
      "cell_type": "code",
      "metadata": {
        "id": "iHzZb87uVM1o",
        "colab_type": "code",
        "colab": {
          "base_uri": "https://localhost:8080/",
          "height": 34
        },
        "outputId": "1825e89d-d072-4633-acd5-ae80d21cd7a8"
      },
      "source": [
        "y = torch.randint(5,(3,)).long()\n",
        "print(y)"
      ],
      "execution_count": 5,
      "outputs": [
        {
          "output_type": "stream",
          "text": [
            "tensor([0, 2, 1])\n"
          ],
          "name": "stdout"
        }
      ]
    },
    {
      "cell_type": "markdown",
      "metadata": {
        "id": "JKjjtb5vWJgO",
        "colab_type": "text"
      },
      "source": [
        "### Low-Level"
      ]
    },
    {
      "cell_type": "code",
      "metadata": {
        "id": "DIX_Fo55WL7M",
        "colab_type": "code",
        "colab": {
          "base_uri": "https://localhost:8080/",
          "height": 87
        },
        "outputId": "a2051fcb-86f4-4271-9484-b740578c3853"
      },
      "source": [
        "y_one_hot = torch.zeros_like(hypothesis)\n",
        "print(y.unsqueeze(1).shape)\n",
        "y_one_hot.scatter_(1, y.unsqueeze(1),1)"
      ],
      "execution_count": 6,
      "outputs": [
        {
          "output_type": "stream",
          "text": [
            "torch.Size([3, 1])\n"
          ],
          "name": "stdout"
        },
        {
          "output_type": "execute_result",
          "data": {
            "text/plain": [
              "tensor([[1., 0., 0., 0., 0.],\n",
              "        [0., 0., 1., 0., 0.],\n",
              "        [0., 1., 0., 0., 0.]])"
            ]
          },
          "metadata": {
            "tags": []
          },
          "execution_count": 6
        }
      ]
    },
    {
      "cell_type": "code",
      "metadata": {
        "id": "OHXwS3HGX2P5",
        "colab_type": "code",
        "colab": {
          "base_uri": "https://localhost:8080/",
          "height": 34
        },
        "outputId": "4a506862-953e-4777-cacc-d2bca636ae86"
      },
      "source": [
        "cost = (y_one_hot * -torch.log(hypothesis)).sum(dim=1).mean()\n",
        "print(cost)"
      ],
      "execution_count": 7,
      "outputs": [
        {
          "output_type": "stream",
          "text": [
            "tensor(1.4689, grad_fn=<MeanBackward0>)\n"
          ],
          "name": "stdout"
        }
      ]
    },
    {
      "cell_type": "markdown",
      "metadata": {
        "id": "MU0ICzECY6SX",
        "colab_type": "text"
      },
      "source": [
        "##Cross Entropy with torch.nn.functional"
      ]
    },
    {
      "cell_type": "code",
      "metadata": {
        "id": "-VubM0HjYiv9",
        "colab_type": "code",
        "colab": {
          "base_uri": "https://localhost:8080/",
          "height": 70
        },
        "outputId": "655dae50-b2b2-47ee-95fa-fd4d1403aeb0"
      },
      "source": [
        "# Low level\n",
        "torch.log(F.softmax(z, dim = 1))"
      ],
      "execution_count": 8,
      "outputs": [
        {
          "output_type": "execute_result",
          "data": {
            "text/plain": [
              "tensor([[-1.3301, -1.8084, -1.6846, -1.3530, -2.0584],\n",
              "        [-1.4147, -1.8174, -1.4602, -1.6450, -1.7758],\n",
              "        [-1.5025, -1.6165, -1.4586, -1.8360, -1.6776]], grad_fn=<LogBackward>)"
            ]
          },
          "metadata": {
            "tags": []
          },
          "execution_count": 8
        }
      ]
    },
    {
      "cell_type": "code",
      "metadata": {
        "id": "xTQVwDttYoF_",
        "colab_type": "code",
        "colab": {
          "base_uri": "https://localhost:8080/",
          "height": 87
        },
        "outputId": "b36ad8c8-457b-45dd-b7a0-9f21d3aa5bb4"
      },
      "source": [
        "# High level\n",
        "F.log_softmax(z,dim = 1)"
      ],
      "execution_count": 9,
      "outputs": [
        {
          "output_type": "execute_result",
          "data": {
            "text/plain": [
              "tensor([[-1.3301, -1.8084, -1.6846, -1.3530, -2.0584],\n",
              "        [-1.4147, -1.8174, -1.4602, -1.6450, -1.7758],\n",
              "        [-1.5025, -1.6165, -1.4586, -1.8360, -1.6776]],\n",
              "       grad_fn=<LogSoftmaxBackward>)"
            ]
          },
          "metadata": {
            "tags": []
          },
          "execution_count": 9
        }
      ]
    },
    {
      "cell_type": "code",
      "metadata": {
        "id": "OjFTT9y0Yq7x",
        "colab_type": "code",
        "colab": {
          "base_uri": "https://localhost:8080/",
          "height": 34
        },
        "outputId": "aa0a164d-3319-4c4c-8ddf-64a3c8820f21"
      },
      "source": [
        "# Low level\n",
        "(y_one_hot * -torch.log(F.softmax(z,dim = 1))).sum(dim = 1).mean()"
      ],
      "execution_count": 10,
      "outputs": [
        {
          "output_type": "execute_result",
          "data": {
            "text/plain": [
              "tensor(1.4689, grad_fn=<MeanBackward0>)"
            ]
          },
          "metadata": {
            "tags": []
          },
          "execution_count": 10
        }
      ]
    },
    {
      "cell_type": "markdown",
      "metadata": {
        "id": "Gu3F-C45Z-QO",
        "colab_type": "text"
      },
      "source": [
        "F.nll_loss() function that computes the negative loss likelihood"
      ]
    },
    {
      "cell_type": "code",
      "metadata": {
        "id": "kHcTgXwiZosx",
        "colab_type": "code",
        "colab": {
          "base_uri": "https://localhost:8080/",
          "height": 34
        },
        "outputId": "fcc64d8a-aa32-45b6-9d13-79801366b86e"
      },
      "source": [
        "# High level\n",
        "F.nll_loss(F.log_softmax(z,dim=1),y)"
      ],
      "execution_count": 11,
      "outputs": [
        {
          "output_type": "execute_result",
          "data": {
            "text/plain": [
              "tensor(1.4689, grad_fn=<NllLossBackward>)"
            ]
          },
          "metadata": {
            "tags": []
          },
          "execution_count": 11
        }
      ]
    },
    {
      "cell_type": "code",
      "metadata": {
        "id": "lFudqZuRZ14o",
        "colab_type": "code",
        "colab": {
          "base_uri": "https://localhost:8080/",
          "height": 34
        },
        "outputId": "24d92cb1-61e2-4297-a631-08f0759d7ebf"
      },
      "source": [
        "F.cross_entropy(z,y)"
      ],
      "execution_count": 12,
      "outputs": [
        {
          "output_type": "execute_result",
          "data": {
            "text/plain": [
              "tensor(1.4689, grad_fn=<NllLossBackward>)"
            ]
          },
          "metadata": {
            "tags": []
          },
          "execution_count": 12
        }
      ]
    },
    {
      "cell_type": "markdown",
      "metadata": {
        "id": "Pfk5dxYcbQFJ",
        "colab_type": "text"
      },
      "source": [
        "## Training with Low-level Cross Entropy Loss"
      ]
    },
    {
      "cell_type": "code",
      "metadata": {
        "id": "D45ztBpUZ-rU",
        "colab_type": "code",
        "colab": {}
      },
      "source": [
        "# 데이터 셋\n",
        "x_train = [[1, 2, 1, 1],\n",
        "           [2, 1, 3, 2],\n",
        "           [3, 1, 3, 4],\n",
        "           [4, 1, 5, 5],\n",
        "           [1, 7, 5, 5],\n",
        "           [1, 2, 5, 6],\n",
        "           [1, 6, 6, 6],\n",
        "           [1, 7, 7, 7]]\n",
        "y_train = [2,2,2,1,1,1,0,0]\n",
        "x_train = torch.FloatTensor(x_train)\n",
        "y_train = torch.LongTensor(y_train)"
      ],
      "execution_count": 13,
      "outputs": []
    },
    {
      "cell_type": "code",
      "metadata": {
        "id": "diAQ9h7mbiYV",
        "colab_type": "code",
        "colab": {
          "base_uri": "https://localhost:8080/",
          "height": 210
        },
        "outputId": "57830b05-fbec-44ba-89a9-91b1423862f1"
      },
      "source": [
        "# 모델 초기화\n",
        "W = torch.zeros((4,3),requires_grad=True)\n",
        "b = torch.zeros(1,requires_grad=True)\n",
        "# optimizer설정\n",
        "optimizer = optim.SGD([W,b],lr= 0.1)\n",
        "\n",
        "nb_epochs = 1000\n",
        "for epoch in range(nb_epochs + 1):\n",
        "    #H(x) 계산\n",
        "    hypo = F.softmax(x_train.matmul(W) + b, dim = 1)\n",
        "    y_one_hot = torch.zeros_like(hypo)\n",
        "    y_one_hot = y_one_hot.scatter_(1,y_train.unsqueeze(1),1)\n",
        "    # cost = (y_one_hot * -torch.log(F.softmax(hypo,dim=1))).sum(dim=1).mean()\n",
        "    cost = (y_one_hot * -torch.log(hypo)).sum(dim=1).mean()\n",
        "    # cost 개선\n",
        "    optimizer.zero_grad()\n",
        "    cost.backward()\n",
        "    optimizer.step()\n",
        "\n",
        "    if epoch % 100 == 0:\n",
        "        print(\"Epoch: {:4d}/{} Cost: {:.6f}\".format(epoch,nb_epochs,cost.item()))"
      ],
      "execution_count": 14,
      "outputs": [
        {
          "output_type": "stream",
          "text": [
            "Epoch:    0/1000 Cost: 1.098612\n",
            "Epoch:  100/1000 Cost: 0.761050\n",
            "Epoch:  200/1000 Cost: 0.689991\n",
            "Epoch:  300/1000 Cost: 0.643229\n",
            "Epoch:  400/1000 Cost: 0.604117\n",
            "Epoch:  500/1000 Cost: 0.568255\n",
            "Epoch:  600/1000 Cost: 0.533922\n",
            "Epoch:  700/1000 Cost: 0.500291\n",
            "Epoch:  800/1000 Cost: 0.466908\n",
            "Epoch:  900/1000 Cost: 0.433507\n",
            "Epoch: 1000/1000 Cost: 0.399962\n"
          ],
          "name": "stdout"
        }
      ]
    },
    {
      "cell_type": "markdown",
      "metadata": {
        "id": "Qkg8oc3DfX_o",
        "colab_type": "text"
      },
      "source": [
        "## Training with High-level Cross Entropy"
      ]
    },
    {
      "cell_type": "code",
      "metadata": {
        "id": "I_GL23Yafcwo",
        "colab_type": "code",
        "colab": {
          "base_uri": "https://localhost:8080/",
          "height": 210
        },
        "outputId": "ec4471e3-6dae-420c-c650-7a9fd25a08c9"
      },
      "source": [
        "# 모델 초기화\n",
        "W = torch.zeros((4,3), requires_grad= True)\n",
        "b = torch.zeros(1,requires_grad= True)\n",
        "# optimizer 설정\n",
        "optimizer = optim.SGD([W,b],lr = 0.1)\n",
        "\n",
        "nb_epochs = 1000\n",
        "for epoch in range(nb_epochs + 1):\n",
        "\n",
        "    # Cost 계산\n",
        "    z = x_train.matmul(W) + b\n",
        "    cost = F.cross_entropy(z,y_train)   # ont_hot vector 만드는 과정 생략\n",
        "\n",
        "    # Cost 개선\n",
        "    optimizer.zero_grad()\n",
        "    cost.backward()\n",
        "    optimizer.step()\n",
        "\n",
        "    if epoch % 100 == 0:\n",
        "        print(\"Epoch: {:4d}/{} Cost: {:.6f}\".format(epoch,nb_epochs,cost.item()))"
      ],
      "execution_count": 15,
      "outputs": [
        {
          "output_type": "stream",
          "text": [
            "Epoch:    0/1000 Cost: 1.098612\n",
            "Epoch:  100/1000 Cost: 0.761050\n",
            "Epoch:  200/1000 Cost: 0.689991\n",
            "Epoch:  300/1000 Cost: 0.643229\n",
            "Epoch:  400/1000 Cost: 0.604117\n",
            "Epoch:  500/1000 Cost: 0.568255\n",
            "Epoch:  600/1000 Cost: 0.533922\n",
            "Epoch:  700/1000 Cost: 0.500291\n",
            "Epoch:  800/1000 Cost: 0.466908\n",
            "Epoch:  900/1000 Cost: 0.433506\n",
            "Epoch: 1000/1000 Cost: 0.399962\n"
          ],
          "name": "stdout"
        }
      ]
    },
    {
      "cell_type": "markdown",
      "metadata": {
        "id": "wSXsu_nKg26q",
        "colab_type": "text"
      },
      "source": [
        "## High-level Implementation with nn.Module"
      ]
    },
    {
      "cell_type": "code",
      "metadata": {
        "id": "1mUkLjc9g7B2",
        "colab_type": "code",
        "colab": {}
      },
      "source": [
        "class SoftmaxClassifiermodel(nn.Module):\n",
        "    def __init__(self):\n",
        "        super().__init__()\n",
        "        self.linear = nn.Linear(4,3)\n",
        "    \n",
        "    def forward(self,x):\n",
        "        return self.linear(x)       # x = (m,4) -> (m,3)"
      ],
      "execution_count": 16,
      "outputs": []
    },
    {
      "cell_type": "code",
      "metadata": {
        "id": "aX_lKezChe2K",
        "colab_type": "code",
        "colab": {}
      },
      "source": [
        "model = SoftmaxClassifiermodel()"
      ],
      "execution_count": 17,
      "outputs": []
    },
    {
      "cell_type": "code",
      "metadata": {
        "id": "uZD3rir_iCpc",
        "colab_type": "code",
        "colab": {
          "base_uri": "https://localhost:8080/",
          "height": 210
        },
        "outputId": "41fc7e6b-be00-49a2-f5dd-e4219576940c"
      },
      "source": [
        "# optimizer 설정\n",
        "optimizer = optim.SGD(model.parameters(),lr = 0.1)\n",
        "nb_epochs = 1000\n",
        "for epoch in range(nb_epochs + 1):\n",
        "    # H(x) 계산\n",
        "    hypo = model(x_train)\n",
        "    # cost 계산\n",
        "    cost = F.cross_entropy(hypo,y_train)\n",
        "    # cost로 h(x)개선\n",
        "    optimizer.zero_grad()\n",
        "    cost.backward()\n",
        "    optimizer.step()\n",
        "\n",
        "    if epoch % 100 == 0:\n",
        "         print(\"Epoch: {:4d}/{} Cost: {:.6f}\".format(epoch,nb_epochs,cost.item()))"
      ],
      "execution_count": 18,
      "outputs": [
        {
          "output_type": "stream",
          "text": [
            "Epoch:    0/1000 Cost: 1.849513\n",
            "Epoch:  100/1000 Cost: 0.689894\n",
            "Epoch:  200/1000 Cost: 0.609258\n",
            "Epoch:  300/1000 Cost: 0.551218\n",
            "Epoch:  400/1000 Cost: 0.500141\n",
            "Epoch:  500/1000 Cost: 0.451947\n",
            "Epoch:  600/1000 Cost: 0.405051\n",
            "Epoch:  700/1000 Cost: 0.358733\n",
            "Epoch:  800/1000 Cost: 0.312912\n",
            "Epoch:  900/1000 Cost: 0.269522\n",
            "Epoch: 1000/1000 Cost: 0.241922\n"
          ],
          "name": "stdout"
        }
      ]
    }
  ]
}