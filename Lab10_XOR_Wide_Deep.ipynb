{
  "nbformat": 4,
  "nbformat_minor": 0,
  "metadata": {
    "colab": {
      "name": "Lab10_XOR_Wide_Deep.ipynb",
      "provenance": []
    },
    "kernelspec": {
      "name": "python3",
      "display_name": "Python 3"
    }
  },
  "cells": [
    {
      "cell_type": "markdown",
      "metadata": {
        "id": "QNyu5SlIvZv6",
        "colab_type": "text"
      },
      "source": [
        "# XOR Wide Deep with nn\n",
        "- layer를 추가함으로 써 더 정밀한 학습 가능"
      ]
    },
    {
      "cell_type": "code",
      "metadata": {
        "id": "XdMgaHhOvGQF",
        "colab_type": "code",
        "colab": {}
      },
      "source": [
        "import torch\n",
        "import torch.nn as nn\n",
        "device = \"cuda\" if torch.cuda.is_available() else \"cpu\"\n",
        "torch.manual_seed(777)\n",
        "if device == \"cuda\":\n",
        "    torch.cuda.manual_seed_all(777)"
      ],
      "execution_count": 1,
      "outputs": []
    },
    {
      "cell_type": "code",
      "metadata": {
        "id": "3VDQ7xI3vwJo",
        "colab_type": "code",
        "colab": {}
      },
      "source": [
        "X = torch.FloatTensor([[0, 0], [0, 1], [1, 0], [1, 1]]).to(device)\n",
        "Y = torch.FloatTensor([[0], [1], [1], [0]]).to(device)"
      ],
      "execution_count": 2,
      "outputs": []
    },
    {
      "cell_type": "code",
      "metadata": {
        "id": "dl2UpO5lv5PD",
        "colab_type": "code",
        "colab": {}
      },
      "source": [
        "## 4 layers\n",
        "linear1 = nn.Linear(2,10,bias=True)\n",
        "linear2 = nn.Linear(10,10,bias=True)\n",
        "linear3 = nn.Linear(10,10,bias=True)\n",
        "linear4 = nn.Linear(10,1,bias=True)\n",
        "sigmoid = nn.Sigmoid()"
      ],
      "execution_count": 3,
      "outputs": []
    },
    {
      "cell_type": "code",
      "metadata": {
        "id": "BD5gzIMFwVuK",
        "colab_type": "code",
        "colab": {}
      },
      "source": [
        "# model\n",
        "model = torch.nn.Sequential(linear1, sigmoid,\n",
        "                            linear2, sigmoid,\n",
        "                            linear3, sigmoid,\n",
        "                            linear4, sigmoid).to(device)"
      ],
      "execution_count": 4,
      "outputs": []
    },
    {
      "cell_type": "code",
      "metadata": {
        "id": "T3xeWJ1GwleA",
        "colab_type": "code",
        "colab": {}
      },
      "source": [
        "# cost/loss & optimizer\n",
        "criterion = nn.BCELoss()\n",
        "optimizer = torch.optim.SGD(model.parameters(),lr = 1)"
      ],
      "execution_count": 5,
      "outputs": []
    },
    {
      "cell_type": "code",
      "metadata": {
        "id": "YqOUV4B0wznP",
        "colab_type": "code",
        "colab": {
          "base_uri": "https://localhost:8080/",
          "height": 386
        },
        "outputId": "85136779-5ffe-41f6-a776-a420e0353733"
      },
      "source": [
        "for step in range(10001):\n",
        "    optimizer.zero_grad()\n",
        "    hypothesis = model(X)\n",
        "    cost = criterion(hypothesis, Y)\n",
        "    cost.backward()\n",
        "    optimizer.step()\n",
        "\n",
        "    if step % 500 == 0:\n",
        "        print(step, cost.item())"
      ],
      "execution_count": 6,
      "outputs": [
        {
          "output_type": "stream",
          "text": [
            "0 0.6948983669281006\n",
            "500 0.6931473016738892\n",
            "1000 0.6931379437446594\n",
            "1500 0.6931284666061401\n",
            "2000 0.6931172013282776\n",
            "2500 0.6931014657020569\n",
            "3000 0.6930762529373169\n",
            "3500 0.6930283904075623\n",
            "4000 0.6929103136062622\n",
            "4500 0.6924278140068054\n",
            "5000 0.6820822358131409\n",
            "5500 0.005042724311351776\n",
            "6000 0.0013032691786065698\n",
            "6500 0.0007139394292607903\n",
            "7000 0.0004838125314563513\n",
            "7500 0.0003629559651017189\n",
            "8000 0.00028903622296638787\n",
            "8500 0.00023935710487421602\n",
            "9000 0.0002038097009062767\n",
            "9500 0.00017717608716338873\n",
            "10000 0.00015648972475901246\n"
          ],
          "name": "stdout"
        }
      ]
    },
    {
      "cell_type": "code",
      "metadata": {
        "id": "cXPjvTf4xEz2",
        "colab_type": "code",
        "colab": {
          "base_uri": "https://localhost:8080/",
          "height": 193
        },
        "outputId": "2383d577-5396-4f5e-f96b-3a4c757ecc2d"
      },
      "source": [
        "with torch.no_grad():\n",
        "    predicted = (hypothesis > 0.5).float()\n",
        "    accuracy = (predicted == Y).float().mean()\n",
        "    print('\\nHypothesis: ', hypothesis.detach().cpu().numpy(), '\\nCorrect: ', predicted.detach().cpu().numpy(), '\\nAccuracy: ', accuracy.item())"
      ],
      "execution_count": 7,
      "outputs": [
        {
          "output_type": "stream",
          "text": [
            "\n",
            "Hypothesis:  [[1.1171443e-04]\n",
            " [9.9982882e-01]\n",
            " [9.9984229e-01]\n",
            " [1.8533881e-04]] \n",
            "Correct:  [[0.]\n",
            " [1.]\n",
            " [1.]\n",
            " [0.]] \n",
            "Accuracy:  1.0\n"
          ],
          "name": "stdout"
        }
      ]
    }
  ]
}